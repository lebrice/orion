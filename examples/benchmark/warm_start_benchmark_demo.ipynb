{
 "cells": [
  {
   "cell_type": "code",
   "execution_count": 1,
   "source": [
    "from orion.benchmark.benchmark_client import get_or_create_benchmark\n",
    "\n",
    "from orion.benchmark.assessment import AverageResult, AverageRank\n",
    "\n",
    "from orion.benchmark.task import RosenBrock, EggHolder, CarromTable\n",
    "from orion.benchmark.warm_start_study import WarmStartStudy\n",
    "from orion.benchmark.assessment.warm_start_efficiency import WarmStartEfficiency\n",
    "from orion.benchmark import Benchmark\n",
    "from orion.benchmark.warm_start_benchmark import WarmStartBenchmark\n",
    "\n",
    "from warmstart.new_knowledge_base import KnowledgeBase\n",
    "\n",
    "\n",
    "bm1 = WarmStartBenchmark(\n",
    "        name=\"ablr_debug\",\n",
    "        algorithms=[\n",
    "            # \"robo_bohamiann\",  # Incredibly slow!\n",
    "            \"robo_dngo\",\n",
    "            \"robo_gp\",\n",
    "            # \"robo_gp_mcmc\",\n",
    "            \"robo_randomforest\",\n",
    "            \"robo_ablr\",\n",
    "            # \"robo_mtablr\",\n",
    "            # \"random\",\n",
    "            \"tpe\",\n",
    "            # \"robo_mtablr\",\n",
    "        ],\n",
    "        task_correlations=task_correlations,\n",
    "        target_task=target_task,\n",
    "        knowledge_base_type=KnowledgeBase,\n",
    "        n_source_points=config.n_source_points,\n",
    "        repetitions=config.n_repetitions,\n",
    "        storage={\n",
    "            \"type\": \"legacy\",\n",
    "            \"database\": {\"type\": \"pickleddb\", \"host\": config.storage_pickle_path},\n",
    "        },\n",
    "        debug=config.debug,\n",
    "    )\n",
    "\n",
    "bm1.process()\n"
   ],
   "outputs": [
    {
     "output_type": "error",
     "ename": "TypeError",
     "evalue": "__init__() got an unexpected keyword argument 'targets'",
     "traceback": [
      "\u001b[0;31m---------------------------------------------------------------------------\u001b[0m",
      "\u001b[0;31mTypeError\u001b[0m                                 Traceback (most recent call last)",
      "\u001b[0;32m<ipython-input-1-71a71203bde0>\u001b[0m in \u001b[0;36m<module>\u001b[0;34m\u001b[0m\n\u001b[1;32m     12\u001b[0m \u001b[0;34m\u001b[0m\u001b[0m\n\u001b[1;32m     13\u001b[0m \u001b[0;34m\u001b[0m\u001b[0m\n\u001b[0;32m---> 14\u001b[0;31m bm1 = WarmStartBenchmark(\n\u001b[0m\u001b[1;32m     15\u001b[0m     \u001b[0;34m\"warm_start_debug\"\u001b[0m\u001b[0;34m,\u001b[0m\u001b[0;34m\u001b[0m\u001b[0;34m\u001b[0m\u001b[0m\n\u001b[1;32m     16\u001b[0m     \u001b[0malgorithms\u001b[0m\u001b[0;34m=\u001b[0m\u001b[0;34m[\u001b[0m\u001b[0;34m{\u001b[0m\u001b[0;34m\"algorithm\"\u001b[0m\u001b[0;34m:\u001b[0m \u001b[0;34m\"random\"\u001b[0m\u001b[0;34m}\u001b[0m\u001b[0;34m,\u001b[0m \u001b[0;34m{\u001b[0m\u001b[0;34m\"algorithm\"\u001b[0m\u001b[0;34m:\u001b[0m \u001b[0;34m\"tpe\"\u001b[0m\u001b[0;34m}\u001b[0m\u001b[0;34m]\u001b[0m\u001b[0;34m,\u001b[0m\u001b[0;34m\u001b[0m\u001b[0;34m\u001b[0m\u001b[0m\n",
      "\u001b[0;31mTypeError\u001b[0m: __init__() got an unexpected keyword argument 'targets'"
     ]
    }
   ],
   "metadata": {}
  },
  {
   "cell_type": "code",
   "execution_count": null,
   "source": [
    "status=bm1.status(False)"
   ],
   "outputs": [
    {
     "output_type": "stream",
     "name": "stdout",
     "text": [
      "Benchmark name: warm_start_debug, Experiments: 0/0, Submitted trials: 0\n"
     ]
    },
    {
     "output_type": "display_data",
     "data": {
      "text/html": [],
      "text/plain": [
       "<IPython.core.display.HTML object>"
      ]
     },
     "metadata": {}
    }
   ],
   "metadata": {
    "scrolled": true
   }
  },
  {
   "cell_type": "code",
   "execution_count": null,
   "source": [
    "figures = bm1.analysis()\n",
    "for figure in figures:\n",
    "    figure.show()"
   ],
   "outputs": [],
   "metadata": {
    "scrolled": true
   }
  },
  {
   "cell_type": "code",
   "execution_count": null,
   "source": [
    "bm1.studies"
   ],
   "outputs": [
    {
     "output_type": "execute_result",
     "data": {
      "text/plain": [
       "[]"
      ]
     },
     "metadata": {},
     "execution_count": 9
    }
   ],
   "metadata": {}
  },
  {
   "cell_type": "code",
   "execution_count": null,
   "source": [
    "bm1.studies[0].analysis()"
   ],
   "outputs": [
    {
     "output_type": "error",
     "ename": "IndexError",
     "evalue": "list index out of range",
     "traceback": [
      "\u001b[0;31m---------------------------------------------------------------------------\u001b[0m",
      "\u001b[0;31mIndexError\u001b[0m                                Traceback (most recent call last)",
      "\u001b[0;32m<ipython-input-10-ffe24178284a>\u001b[0m in \u001b[0;36m<module>\u001b[0;34m\u001b[0m\n\u001b[0;32m----> 1\u001b[0;31m \u001b[0mbm1\u001b[0m\u001b[0;34m.\u001b[0m\u001b[0mstudies\u001b[0m\u001b[0;34m[\u001b[0m\u001b[0;36m0\u001b[0m\u001b[0;34m]\u001b[0m\u001b[0;34m.\u001b[0m\u001b[0manalysis\u001b[0m\u001b[0;34m(\u001b[0m\u001b[0;34m)\u001b[0m\u001b[0;34m\u001b[0m\u001b[0;34m\u001b[0m\u001b[0m\n\u001b[0m",
      "\u001b[0;31mIndexError\u001b[0m: list index out of range"
     ]
    }
   ],
   "metadata": {}
  },
  {
   "cell_type": "code",
   "execution_count": null,
   "source": [
    "exps=bm1.experiments(False)"
   ],
   "outputs": [
    {
     "output_type": "stream",
     "name": "stdout",
     "text": [
      "Total Experiments: 32\n"
     ]
    },
    {
     "output_type": "display_data",
     "data": {
      "text/html": [
       "<table>\n",
       "<thead>\n",
       "<tr><th style=\"text-align: center;\"> Algorithm </th><th style=\"text-align: center;\">          Experiment Name          </th><th style=\"text-align: center;\"> Number Trial </th><th style=\"text-align: center;\"> Best Evaluation </th></tr>\n",
       "</thead>\n",
       "<tbody>\n",
       "<tr><td style=\"text-align: center;\">  random   </td><td style=\"text-align: center;\">bm103_AverageResult_RosenBrock_0_0 </td><td style=\"text-align: center;\">      25      </td><td style=\"text-align: center;\">     421.934     </td></tr>\n",
       "<tr><td style=\"text-align: center;\">    tpe    </td><td style=\"text-align: center;\">bm103_AverageResult_RosenBrock_0_1 </td><td style=\"text-align: center;\">      25      </td><td style=\"text-align: center;\">     993.31      </td></tr>\n",
       "<tr><td style=\"text-align: center;\">  random   </td><td style=\"text-align: center;\">bm103_AverageResult_RosenBrock_1_0 </td><td style=\"text-align: center;\">      25      </td><td style=\"text-align: center;\">     513.235     </td></tr>\n",
       "<tr><td style=\"text-align: center;\">    tpe    </td><td style=\"text-align: center;\">bm103_AverageResult_RosenBrock_1_1 </td><td style=\"text-align: center;\">      25      </td><td style=\"text-align: center;\">     1261.42     </td></tr>\n",
       "<tr><td style=\"text-align: center;\">  random   </td><td style=\"text-align: center;\"> bm103_AverageResult_EggHolder_0_0 </td><td style=\"text-align: center;\">      20      </td><td style=\"text-align: center;\">    -1399.05     </td></tr>\n",
       "<tr><td style=\"text-align: center;\">    tpe    </td><td style=\"text-align: center;\"> bm103_AverageResult_EggHolder_0_1 </td><td style=\"text-align: center;\">      20      </td><td style=\"text-align: center;\">    -1257.67     </td></tr>\n",
       "<tr><td style=\"text-align: center;\">  random   </td><td style=\"text-align: center;\"> bm103_AverageResult_EggHolder_1_0 </td><td style=\"text-align: center;\">      20      </td><td style=\"text-align: center;\">    -1127.42     </td></tr>\n",
       "<tr><td style=\"text-align: center;\">    tpe    </td><td style=\"text-align: center;\"> bm103_AverageResult_EggHolder_1_1 </td><td style=\"text-align: center;\">      20      </td><td style=\"text-align: center;\">    -1252.14     </td></tr>\n",
       "<tr><td style=\"text-align: center;\">  random   </td><td style=\"text-align: center;\">bm103_AverageResult_CarromTable_0_0</td><td style=\"text-align: center;\">      20      </td><td style=\"text-align: center;\">  -2.23409e+08   </td></tr>\n",
       "<tr><td style=\"text-align: center;\">    tpe    </td><td style=\"text-align: center;\">bm103_AverageResult_CarromTable_0_1</td><td style=\"text-align: center;\">      20      </td><td style=\"text-align: center;\">  -2.88134e+08   </td></tr>\n",
       "<tr><td style=\"text-align: center;\">  random   </td><td style=\"text-align: center;\">bm103_AverageResult_CarromTable_1_0</td><td style=\"text-align: center;\">      20      </td><td style=\"text-align: center;\">  -1.74044e+06   </td></tr>\n",
       "<tr><td style=\"text-align: center;\">    tpe    </td><td style=\"text-align: center;\">bm103_AverageResult_CarromTable_1_1</td><td style=\"text-align: center;\">      20      </td><td style=\"text-align: center;\">  -6.62872e+07   </td></tr>\n",
       "<tr><td style=\"text-align: center;\">  random   </td><td style=\"text-align: center;\"> bm103_AverageResult_BirdLike_0_0  </td><td style=\"text-align: center;\">      20      </td><td style=\"text-align: center;\">     2.00282     </td></tr>\n",
       "<tr><td style=\"text-align: center;\">    tpe    </td><td style=\"text-align: center;\"> bm103_AverageResult_BirdLike_0_1  </td><td style=\"text-align: center;\">      20      </td><td style=\"text-align: center;\">     2.01508     </td></tr>\n",
       "<tr><td style=\"text-align: center;\">  random   </td><td style=\"text-align: center;\"> bm103_AverageResult_BirdLike_1_0  </td><td style=\"text-align: center;\">      20      </td><td style=\"text-align: center;\">     2.00067     </td></tr>\n",
       "<tr><td style=\"text-align: center;\">    tpe    </td><td style=\"text-align: center;\"> bm103_AverageResult_BirdLike_1_1  </td><td style=\"text-align: center;\">      20      </td><td style=\"text-align: center;\">     2.01835     </td></tr>\n",
       "<tr><td style=\"text-align: center;\">  random   </td><td style=\"text-align: center;\"> bm103_AverageRank_RosenBrock_0_0  </td><td style=\"text-align: center;\">      25      </td><td style=\"text-align: center;\">     447.985     </td></tr>\n",
       "<tr><td style=\"text-align: center;\">    tpe    </td><td style=\"text-align: center;\"> bm103_AverageRank_RosenBrock_0_1  </td><td style=\"text-align: center;\">      25      </td><td style=\"text-align: center;\">     216.303     </td></tr>\n",
       "<tr><td style=\"text-align: center;\">  random   </td><td style=\"text-align: center;\"> bm103_AverageRank_RosenBrock_1_0  </td><td style=\"text-align: center;\">      25      </td><td style=\"text-align: center;\">     314.416     </td></tr>\n",
       "<tr><td style=\"text-align: center;\">    tpe    </td><td style=\"text-align: center;\"> bm103_AverageRank_RosenBrock_1_1  </td><td style=\"text-align: center;\">      25      </td><td style=\"text-align: center;\">     7465.89     </td></tr>\n",
       "<tr><td style=\"text-align: center;\">  random   </td><td style=\"text-align: center;\">  bm103_AverageRank_EggHolder_0_0  </td><td style=\"text-align: center;\">      20      </td><td style=\"text-align: center;\">    -1236.68     </td></tr>\n",
       "<tr><td style=\"text-align: center;\">    tpe    </td><td style=\"text-align: center;\">  bm103_AverageRank_EggHolder_0_1  </td><td style=\"text-align: center;\">      20      </td><td style=\"text-align: center;\">    -848.319     </td></tr>\n",
       "<tr><td style=\"text-align: center;\">  random   </td><td style=\"text-align: center;\">  bm103_AverageRank_EggHolder_1_0  </td><td style=\"text-align: center;\">      20      </td><td style=\"text-align: center;\">    -1217.65     </td></tr>\n",
       "<tr><td style=\"text-align: center;\">    tpe    </td><td style=\"text-align: center;\">  bm103_AverageRank_EggHolder_1_1  </td><td style=\"text-align: center;\">      20      </td><td style=\"text-align: center;\">    -1095.06     </td></tr>\n",
       "<tr><td style=\"text-align: center;\">  random   </td><td style=\"text-align: center;\"> bm103_AverageRank_CarromTable_0_0 </td><td style=\"text-align: center;\">      20      </td><td style=\"text-align: center;\">  -1.34049e+06   </td></tr>\n",
       "<tr><td style=\"text-align: center;\">    tpe    </td><td style=\"text-align: center;\"> bm103_AverageRank_CarromTable_0_1 </td><td style=\"text-align: center;\">      20      </td><td style=\"text-align: center;\">  -8.58915e+06   </td></tr>\n",
       "<tr><td style=\"text-align: center;\">  random   </td><td style=\"text-align: center;\"> bm103_AverageRank_CarromTable_1_0 </td><td style=\"text-align: center;\">      20      </td><td style=\"text-align: center;\">  -3.01374e+06   </td></tr>\n",
       "<tr><td style=\"text-align: center;\">    tpe    </td><td style=\"text-align: center;\"> bm103_AverageRank_CarromTable_1_1 </td><td style=\"text-align: center;\">      20      </td><td style=\"text-align: center;\">  -1.40059e+07   </td></tr>\n",
       "<tr><td style=\"text-align: center;\">  random   </td><td style=\"text-align: center;\">  bm103_AverageRank_BirdLike_0_0   </td><td style=\"text-align: center;\">      20      </td><td style=\"text-align: center;\">     2.00222     </td></tr>\n",
       "<tr><td style=\"text-align: center;\">    tpe    </td><td style=\"text-align: center;\">  bm103_AverageRank_BirdLike_0_1   </td><td style=\"text-align: center;\">      20      </td><td style=\"text-align: center;\">     2.0284      </td></tr>\n",
       "<tr><td style=\"text-align: center;\">  random   </td><td style=\"text-align: center;\">  bm103_AverageRank_BirdLike_1_0   </td><td style=\"text-align: center;\">      20      </td><td style=\"text-align: center;\">     2.0163      </td></tr>\n",
       "<tr><td style=\"text-align: center;\">    tpe    </td><td style=\"text-align: center;\">  bm103_AverageRank_BirdLike_1_1   </td><td style=\"text-align: center;\">      20      </td><td style=\"text-align: center;\">     2.0656      </td></tr>\n",
       "</tbody>\n",
       "</table>"
      ],
      "text/plain": [
       "<IPython.core.display.HTML object>"
      ]
     },
     "metadata": {}
    }
   ],
   "metadata": {
    "scrolled": true
   }
  },
  {
   "cell_type": "code",
   "execution_count": null,
   "source": [
    "bm1 = get_or_create_benchmark('bm103')"
   ],
   "outputs": [],
   "metadata": {}
  },
  {
   "cell_type": "code",
   "execution_count": null,
   "source": [
    "bm1.studies[0].analysis()"
   ],
   "outputs": [
    {
     "output_type": "display_data",
     "data": {
      "application/vnd.plotly.v1+json": {
       "config": {
        "plotlyServerURL": "https://plot.ly"
       },
       "data": [
        {
         "line": {
          "color": "#3366CC"
         },
         "mode": "lines",
         "name": "random",
         "type": "scatter",
         "x": [
          0,
          1,
          2,
          3,
          4,
          5,
          6,
          7,
          8,
          9,
          10,
          11,
          12,
          13,
          14,
          15,
          16,
          17,
          18,
          19,
          20,
          21,
          22,
          23,
          24
         ],
         "y": [
          89950.67261976168,
          12180.330112508354,
          12180.330112508354,
          12180.330112508354,
          11706.148913344397,
          3009.6315204553566,
          847.6633765059223,
          847.6633765059223,
          847.6633765059223,
          847.6633765059223,
          847.6633765059223,
          847.6633765059223,
          847.6633765059223,
          596.3520971943294,
          596.3520971943294,
          596.3520971943294,
          596.3520971943294,
          467.58455588255663,
          467.58455588255663,
          467.58455588255663,
          467.58455588255663,
          467.58455588255663,
          467.58455588255663,
          467.58455588255663,
          467.58455588255663
         ]
        },
        {
         "fill": "toself",
         "line": {
          "color": "#3366CC"
         },
         "name": "random",
         "showlegend": false,
         "type": "scatter",
         "x": [
          0,
          1,
          2,
          3,
          4,
          5,
          6,
          7,
          8,
          9,
          10,
          11,
          12,
          13,
          14,
          15,
          16,
          17,
          18,
          19,
          20,
          21,
          22,
          23,
          24,
          24,
          23,
          22,
          21,
          20,
          19,
          18,
          17,
          16,
          15,
          14,
          13,
          12,
          11,
          10,
          9,
          8,
          7,
          6,
          5,
          4,
          3,
          2,
          1,
          0
         ],
         "y": [
          -9036387157.521236,
          -222698268.5052807,
          -222698268.5052807,
          -222698268.5052807,
          -243163623.86167446,
          -10856303.038448595,
          -55730.88353185103,
          -55730.88353185103,
          -55730.88353185103,
          -55730.88353185103,
          -55730.88353185103,
          -55730.88353185103,
          -55730.88353185103,
          -13220.560928696785,
          -13220.560928696785,
          -13220.560928696785,
          -13220.560928696785,
          -3700.336413914668,
          -3700.336413914668,
          -3700.336413914668,
          -3700.336413914668,
          -3700.336413914668,
          -3700.336413914668,
          -3700.336413914668,
          -3700.336413914668,
          4635.505525679781,
          4635.505525679781,
          4635.505525679781,
          4635.505525679781,
          4635.505525679781,
          4635.505525679781,
          4635.505525679781,
          4635.505525679781,
          14413.265123085443,
          14413.265123085443,
          14413.265123085443,
          14413.265123085443,
          57426.21028486288,
          57426.21028486288,
          57426.21028486288,
          57426.21028486288,
          57426.21028486288,
          57426.21028486288,
          57426.21028486288,
          10862322.301489506,
          243187036.15950117,
          222722629.16550574,
          222722629.16550574,
          222722629.16550574,
          9036567058.866474
         ]
        },
        {
         "line": {
          "color": "#DC3912"
         },
         "mode": "lines",
         "name": "tpe",
         "type": "scatter",
         "x": [
          0,
          1,
          2,
          3,
          4,
          5,
          6,
          7,
          8,
          9,
          10,
          11,
          12,
          13,
          14,
          15,
          16,
          17,
          18,
          19,
          20,
          21,
          22,
          23,
          24
         ],
         "y": [
          251706.90738806495,
          137435.78927484696,
          137435.78927484696,
          3785.1127658459955,
          1127.3637185146947,
          1127.3637185146947,
          1127.3637185146947,
          1127.3637185146947,
          1127.3637185146947,
          1127.3637185146947,
          1127.3637185146947,
          1127.3637185146947,
          1127.3637185146947,
          1127.3637185146947,
          1127.3637185146947,
          1127.3637185146947,
          1127.3637185146947,
          1127.3637185146947,
          1127.3637185146947,
          1127.3637185146947,
          1127.3637185146947,
          1127.3637185146947,
          1127.3637185146947,
          1127.3637185146947,
          1127.3637185146947
         ]
        },
        {
         "fill": "toself",
         "line": {
          "color": "#DC3912"
         },
         "name": "tpe",
         "showlegend": false,
         "type": "scatter",
         "x": [
          0,
          1,
          2,
          3,
          4,
          5,
          6,
          7,
          8,
          9,
          10,
          11,
          12,
          13,
          14,
          15,
          16,
          17,
          18,
          19,
          20,
          21,
          22,
          23,
          24,
          24,
          23,
          22,
          21,
          20,
          19,
          18,
          17,
          16,
          15,
          14,
          13,
          12,
          11,
          10,
          9,
          8,
          7,
          6,
          5,
          4,
          3,
          2,
          1,
          0
         ],
         "y": [
          -25351706488.121758,
          -5530689.05307808,
          -5530689.05307808,
          -12734287.667081306,
          -34813.618196954696,
          -34813.618196954696,
          -34813.618196954696,
          -34813.618196954696,
          -34813.618196954696,
          -34813.618196954696,
          -34813.618196954696,
          -34813.618196954696,
          -34813.618196954696,
          -34813.618196954696,
          -34813.618196954696,
          -34813.618196954696,
          -34813.618196954696,
          -34813.618196954696,
          -34813.618196954696,
          -34813.618196954696,
          -34813.618196954696,
          -34813.618196954696,
          -34813.618196954696,
          -34813.618196954696,
          -34813.618196954696,
          37068.345633984085,
          37068.345633984085,
          37068.345633984085,
          37068.345633984085,
          37068.345633984085,
          37068.345633984085,
          37068.345633984085,
          37068.345633984085,
          37068.345633984085,
          37068.345633984085,
          37068.345633984085,
          37068.345633984085,
          37068.345633984085,
          37068.345633984085,
          37068.345633984085,
          37068.345633984085,
          37068.345633984085,
          37068.345633984085,
          37068.345633984085,
          37068.345633984085,
          37068.345633984085,
          12741857.892613,
          5805560.631627774,
          5805560.631627774,
          25352209901.93653
         ]
        }
       ],
       "layout": {
        "hovermode": "x",
        "template": {
         "data": {
          "bar": [
           {
            "error_x": {
             "color": "#2a3f5f"
            },
            "error_y": {
             "color": "#2a3f5f"
            },
            "marker": {
             "line": {
              "color": "#E5ECF6",
              "width": 0.5
             }
            },
            "type": "bar"
           }
          ],
          "barpolar": [
           {
            "marker": {
             "line": {
              "color": "#E5ECF6",
              "width": 0.5
             }
            },
            "type": "barpolar"
           }
          ],
          "carpet": [
           {
            "aaxis": {
             "endlinecolor": "#2a3f5f",
             "gridcolor": "white",
             "linecolor": "white",
             "minorgridcolor": "white",
             "startlinecolor": "#2a3f5f"
            },
            "baxis": {
             "endlinecolor": "#2a3f5f",
             "gridcolor": "white",
             "linecolor": "white",
             "minorgridcolor": "white",
             "startlinecolor": "#2a3f5f"
            },
            "type": "carpet"
           }
          ],
          "choropleth": [
           {
            "colorbar": {
             "outlinewidth": 0,
             "ticks": ""
            },
            "type": "choropleth"
           }
          ],
          "contour": [
           {
            "colorbar": {
             "outlinewidth": 0,
             "ticks": ""
            },
            "colorscale": [
             [
              0,
              "#0d0887"
             ],
             [
              0.1111111111111111,
              "#46039f"
             ],
             [
              0.2222222222222222,
              "#7201a8"
             ],
             [
              0.3333333333333333,
              "#9c179e"
             ],
             [
              0.4444444444444444,
              "#bd3786"
             ],
             [
              0.5555555555555556,
              "#d8576b"
             ],
             [
              0.6666666666666666,
              "#ed7953"
             ],
             [
              0.7777777777777778,
              "#fb9f3a"
             ],
             [
              0.8888888888888888,
              "#fdca26"
             ],
             [
              1,
              "#f0f921"
             ]
            ],
            "type": "contour"
           }
          ],
          "contourcarpet": [
           {
            "colorbar": {
             "outlinewidth": 0,
             "ticks": ""
            },
            "type": "contourcarpet"
           }
          ],
          "heatmap": [
           {
            "colorbar": {
             "outlinewidth": 0,
             "ticks": ""
            },
            "colorscale": [
             [
              0,
              "#0d0887"
             ],
             [
              0.1111111111111111,
              "#46039f"
             ],
             [
              0.2222222222222222,
              "#7201a8"
             ],
             [
              0.3333333333333333,
              "#9c179e"
             ],
             [
              0.4444444444444444,
              "#bd3786"
             ],
             [
              0.5555555555555556,
              "#d8576b"
             ],
             [
              0.6666666666666666,
              "#ed7953"
             ],
             [
              0.7777777777777778,
              "#fb9f3a"
             ],
             [
              0.8888888888888888,
              "#fdca26"
             ],
             [
              1,
              "#f0f921"
             ]
            ],
            "type": "heatmap"
           }
          ],
          "heatmapgl": [
           {
            "colorbar": {
             "outlinewidth": 0,
             "ticks": ""
            },
            "colorscale": [
             [
              0,
              "#0d0887"
             ],
             [
              0.1111111111111111,
              "#46039f"
             ],
             [
              0.2222222222222222,
              "#7201a8"
             ],
             [
              0.3333333333333333,
              "#9c179e"
             ],
             [
              0.4444444444444444,
              "#bd3786"
             ],
             [
              0.5555555555555556,
              "#d8576b"
             ],
             [
              0.6666666666666666,
              "#ed7953"
             ],
             [
              0.7777777777777778,
              "#fb9f3a"
             ],
             [
              0.8888888888888888,
              "#fdca26"
             ],
             [
              1,
              "#f0f921"
             ]
            ],
            "type": "heatmapgl"
           }
          ],
          "histogram": [
           {
            "marker": {
             "colorbar": {
              "outlinewidth": 0,
              "ticks": ""
             }
            },
            "type": "histogram"
           }
          ],
          "histogram2d": [
           {
            "colorbar": {
             "outlinewidth": 0,
             "ticks": ""
            },
            "colorscale": [
             [
              0,
              "#0d0887"
             ],
             [
              0.1111111111111111,
              "#46039f"
             ],
             [
              0.2222222222222222,
              "#7201a8"
             ],
             [
              0.3333333333333333,
              "#9c179e"
             ],
             [
              0.4444444444444444,
              "#bd3786"
             ],
             [
              0.5555555555555556,
              "#d8576b"
             ],
             [
              0.6666666666666666,
              "#ed7953"
             ],
             [
              0.7777777777777778,
              "#fb9f3a"
             ],
             [
              0.8888888888888888,
              "#fdca26"
             ],
             [
              1,
              "#f0f921"
             ]
            ],
            "type": "histogram2d"
           }
          ],
          "histogram2dcontour": [
           {
            "colorbar": {
             "outlinewidth": 0,
             "ticks": ""
            },
            "colorscale": [
             [
              0,
              "#0d0887"
             ],
             [
              0.1111111111111111,
              "#46039f"
             ],
             [
              0.2222222222222222,
              "#7201a8"
             ],
             [
              0.3333333333333333,
              "#9c179e"
             ],
             [
              0.4444444444444444,
              "#bd3786"
             ],
             [
              0.5555555555555556,
              "#d8576b"
             ],
             [
              0.6666666666666666,
              "#ed7953"
             ],
             [
              0.7777777777777778,
              "#fb9f3a"
             ],
             [
              0.8888888888888888,
              "#fdca26"
             ],
             [
              1,
              "#f0f921"
             ]
            ],
            "type": "histogram2dcontour"
           }
          ],
          "mesh3d": [
           {
            "colorbar": {
             "outlinewidth": 0,
             "ticks": ""
            },
            "type": "mesh3d"
           }
          ],
          "parcoords": [
           {
            "line": {
             "colorbar": {
              "outlinewidth": 0,
              "ticks": ""
             }
            },
            "type": "parcoords"
           }
          ],
          "pie": [
           {
            "automargin": true,
            "type": "pie"
           }
          ],
          "scatter": [
           {
            "marker": {
             "colorbar": {
              "outlinewidth": 0,
              "ticks": ""
             }
            },
            "type": "scatter"
           }
          ],
          "scatter3d": [
           {
            "line": {
             "colorbar": {
              "outlinewidth": 0,
              "ticks": ""
             }
            },
            "marker": {
             "colorbar": {
              "outlinewidth": 0,
              "ticks": ""
             }
            },
            "type": "scatter3d"
           }
          ],
          "scattercarpet": [
           {
            "marker": {
             "colorbar": {
              "outlinewidth": 0,
              "ticks": ""
             }
            },
            "type": "scattercarpet"
           }
          ],
          "scattergeo": [
           {
            "marker": {
             "colorbar": {
              "outlinewidth": 0,
              "ticks": ""
             }
            },
            "type": "scattergeo"
           }
          ],
          "scattergl": [
           {
            "marker": {
             "colorbar": {
              "outlinewidth": 0,
              "ticks": ""
             }
            },
            "type": "scattergl"
           }
          ],
          "scattermapbox": [
           {
            "marker": {
             "colorbar": {
              "outlinewidth": 0,
              "ticks": ""
             }
            },
            "type": "scattermapbox"
           }
          ],
          "scatterpolar": [
           {
            "marker": {
             "colorbar": {
              "outlinewidth": 0,
              "ticks": ""
             }
            },
            "type": "scatterpolar"
           }
          ],
          "scatterpolargl": [
           {
            "marker": {
             "colorbar": {
              "outlinewidth": 0,
              "ticks": ""
             }
            },
            "type": "scatterpolargl"
           }
          ],
          "scatterternary": [
           {
            "marker": {
             "colorbar": {
              "outlinewidth": 0,
              "ticks": ""
             }
            },
            "type": "scatterternary"
           }
          ],
          "surface": [
           {
            "colorbar": {
             "outlinewidth": 0,
             "ticks": ""
            },
            "colorscale": [
             [
              0,
              "#0d0887"
             ],
             [
              0.1111111111111111,
              "#46039f"
             ],
             [
              0.2222222222222222,
              "#7201a8"
             ],
             [
              0.3333333333333333,
              "#9c179e"
             ],
             [
              0.4444444444444444,
              "#bd3786"
             ],
             [
              0.5555555555555556,
              "#d8576b"
             ],
             [
              0.6666666666666666,
              "#ed7953"
             ],
             [
              0.7777777777777778,
              "#fb9f3a"
             ],
             [
              0.8888888888888888,
              "#fdca26"
             ],
             [
              1,
              "#f0f921"
             ]
            ],
            "type": "surface"
           }
          ],
          "table": [
           {
            "cells": {
             "fill": {
              "color": "#EBF0F8"
             },
             "line": {
              "color": "white"
             }
            },
            "header": {
             "fill": {
              "color": "#C8D4E3"
             },
             "line": {
              "color": "white"
             }
            },
            "type": "table"
           }
          ]
         },
         "layout": {
          "annotationdefaults": {
           "arrowcolor": "#2a3f5f",
           "arrowhead": 0,
           "arrowwidth": 1
          },
          "autotypenumbers": "strict",
          "coloraxis": {
           "colorbar": {
            "outlinewidth": 0,
            "ticks": ""
           }
          },
          "colorscale": {
           "diverging": [
            [
             0,
             "#8e0152"
            ],
            [
             0.1,
             "#c51b7d"
            ],
            [
             0.2,
             "#de77ae"
            ],
            [
             0.3,
             "#f1b6da"
            ],
            [
             0.4,
             "#fde0ef"
            ],
            [
             0.5,
             "#f7f7f7"
            ],
            [
             0.6,
             "#e6f5d0"
            ],
            [
             0.7,
             "#b8e186"
            ],
            [
             0.8,
             "#7fbc41"
            ],
            [
             0.9,
             "#4d9221"
            ],
            [
             1,
             "#276419"
            ]
           ],
           "sequential": [
            [
             0,
             "#0d0887"
            ],
            [
             0.1111111111111111,
             "#46039f"
            ],
            [
             0.2222222222222222,
             "#7201a8"
            ],
            [
             0.3333333333333333,
             "#9c179e"
            ],
            [
             0.4444444444444444,
             "#bd3786"
            ],
            [
             0.5555555555555556,
             "#d8576b"
            ],
            [
             0.6666666666666666,
             "#ed7953"
            ],
            [
             0.7777777777777778,
             "#fb9f3a"
            ],
            [
             0.8888888888888888,
             "#fdca26"
            ],
            [
             1,
             "#f0f921"
            ]
           ],
           "sequentialminus": [
            [
             0,
             "#0d0887"
            ],
            [
             0.1111111111111111,
             "#46039f"
            ],
            [
             0.2222222222222222,
             "#7201a8"
            ],
            [
             0.3333333333333333,
             "#9c179e"
            ],
            [
             0.4444444444444444,
             "#bd3786"
            ],
            [
             0.5555555555555556,
             "#d8576b"
            ],
            [
             0.6666666666666666,
             "#ed7953"
            ],
            [
             0.7777777777777778,
             "#fb9f3a"
            ],
            [
             0.8888888888888888,
             "#fdca26"
            ],
            [
             1,
             "#f0f921"
            ]
           ]
          },
          "colorway": [
           "#636efa",
           "#EF553B",
           "#00cc96",
           "#ab63fa",
           "#FFA15A",
           "#19d3f3",
           "#FF6692",
           "#B6E880",
           "#FF97FF",
           "#FECB52"
          ],
          "font": {
           "color": "#2a3f5f"
          },
          "geo": {
           "bgcolor": "white",
           "lakecolor": "white",
           "landcolor": "#E5ECF6",
           "showlakes": true,
           "showland": true,
           "subunitcolor": "white"
          },
          "hoverlabel": {
           "align": "left"
          },
          "hovermode": "closest",
          "mapbox": {
           "style": "light"
          },
          "paper_bgcolor": "white",
          "plot_bgcolor": "#E5ECF6",
          "polar": {
           "angularaxis": {
            "gridcolor": "white",
            "linecolor": "white",
            "ticks": ""
           },
           "bgcolor": "#E5ECF6",
           "radialaxis": {
            "gridcolor": "white",
            "linecolor": "white",
            "ticks": ""
           }
          },
          "scene": {
           "xaxis": {
            "backgroundcolor": "#E5ECF6",
            "gridcolor": "white",
            "gridwidth": 2,
            "linecolor": "white",
            "showbackground": true,
            "ticks": "",
            "zerolinecolor": "white"
           },
           "yaxis": {
            "backgroundcolor": "#E5ECF6",
            "gridcolor": "white",
            "gridwidth": 2,
            "linecolor": "white",
            "showbackground": true,
            "ticks": "",
            "zerolinecolor": "white"
           },
           "zaxis": {
            "backgroundcolor": "#E5ECF6",
            "gridcolor": "white",
            "gridwidth": 2,
            "linecolor": "white",
            "showbackground": true,
            "ticks": "",
            "zerolinecolor": "white"
           }
          },
          "shapedefaults": {
           "line": {
            "color": "#2a3f5f"
           }
          },
          "ternary": {
           "aaxis": {
            "gridcolor": "white",
            "linecolor": "white",
            "ticks": ""
           },
           "baxis": {
            "gridcolor": "white",
            "linecolor": "white",
            "ticks": ""
           },
           "bgcolor": "#E5ECF6",
           "caxis": {
            "gridcolor": "white",
            "linecolor": "white",
            "ticks": ""
           }
          },
          "title": {
           "x": 0.05
          },
          "xaxis": {
           "automargin": true,
           "gridcolor": "white",
           "linecolor": "white",
           "ticks": "",
           "title": {
            "standoff": 15
           },
           "zerolinecolor": "white",
           "zerolinewidth": 2
          },
          "yaxis": {
           "automargin": true,
           "gridcolor": "white",
           "linecolor": "white",
           "ticks": "",
           "title": {
            "standoff": 15
           },
           "zerolinecolor": "white",
           "zerolinewidth": 2
          }
         }
        },
        "title": {
         "text": "Average Regret"
        },
        "xaxis": {
         "title": {
          "text": "Trials ordered by suggested time"
         }
        },
        "yaxis": {
         "title": {
          "text": "rosenbrock"
         }
        }
       }
      },
      "text/html": [
       "<div>                            <div id=\"28217af6-0214-4298-9179-ca18bfa41765\" class=\"plotly-graph-div\" style=\"height:525px; width:100%;\"></div>            <script type=\"text/javascript\">                require([\"plotly\"], function(Plotly) {                    window.PLOTLYENV=window.PLOTLYENV || {};                                    if (document.getElementById(\"28217af6-0214-4298-9179-ca18bfa41765\")) {                    Plotly.newPlot(                        \"28217af6-0214-4298-9179-ca18bfa41765\",                        [{\"line\": {\"color\": \"#3366CC\"}, \"mode\": \"lines\", \"name\": \"random\", \"type\": \"scatter\", \"x\": [0, 1, 2, 3, 4, 5, 6, 7, 8, 9, 10, 11, 12, 13, 14, 15, 16, 17, 18, 19, 20, 21, 22, 23, 24], \"y\": [89950.67261976168, 12180.330112508354, 12180.330112508354, 12180.330112508354, 11706.148913344397, 3009.6315204553566, 847.6633765059223, 847.6633765059223, 847.6633765059223, 847.6633765059223, 847.6633765059223, 847.6633765059223, 847.6633765059223, 596.3520971943294, 596.3520971943294, 596.3520971943294, 596.3520971943294, 467.58455588255663, 467.58455588255663, 467.58455588255663, 467.58455588255663, 467.58455588255663, 467.58455588255663, 467.58455588255663, 467.58455588255663]}, {\"fill\": \"toself\", \"line\": {\"color\": \"#3366CC\"}, \"name\": \"random\", \"showlegend\": false, \"type\": \"scatter\", \"x\": [0, 1, 2, 3, 4, 5, 6, 7, 8, 9, 10, 11, 12, 13, 14, 15, 16, 17, 18, 19, 20, 21, 22, 23, 24, 24, 23, 22, 21, 20, 19, 18, 17, 16, 15, 14, 13, 12, 11, 10, 9, 8, 7, 6, 5, 4, 3, 2, 1, 0], \"y\": [-9036387157.521236, -222698268.5052807, -222698268.5052807, -222698268.5052807, -243163623.86167446, -10856303.038448595, -55730.88353185103, -55730.88353185103, -55730.88353185103, -55730.88353185103, -55730.88353185103, -55730.88353185103, -55730.88353185103, -13220.560928696785, -13220.560928696785, -13220.560928696785, -13220.560928696785, -3700.336413914668, -3700.336413914668, -3700.336413914668, -3700.336413914668, -3700.336413914668, -3700.336413914668, -3700.336413914668, -3700.336413914668, 4635.505525679781, 4635.505525679781, 4635.505525679781, 4635.505525679781, 4635.505525679781, 4635.505525679781, 4635.505525679781, 4635.505525679781, 14413.265123085443, 14413.265123085443, 14413.265123085443, 14413.265123085443, 57426.21028486288, 57426.21028486288, 57426.21028486288, 57426.21028486288, 57426.21028486288, 57426.21028486288, 57426.21028486288, 10862322.301489506, 243187036.15950117, 222722629.16550574, 222722629.16550574, 222722629.16550574, 9036567058.866474]}, {\"line\": {\"color\": \"#DC3912\"}, \"mode\": \"lines\", \"name\": \"tpe\", \"type\": \"scatter\", \"x\": [0, 1, 2, 3, 4, 5, 6, 7, 8, 9, 10, 11, 12, 13, 14, 15, 16, 17, 18, 19, 20, 21, 22, 23, 24], \"y\": [251706.90738806495, 137435.78927484696, 137435.78927484696, 3785.1127658459955, 1127.3637185146947, 1127.3637185146947, 1127.3637185146947, 1127.3637185146947, 1127.3637185146947, 1127.3637185146947, 1127.3637185146947, 1127.3637185146947, 1127.3637185146947, 1127.3637185146947, 1127.3637185146947, 1127.3637185146947, 1127.3637185146947, 1127.3637185146947, 1127.3637185146947, 1127.3637185146947, 1127.3637185146947, 1127.3637185146947, 1127.3637185146947, 1127.3637185146947, 1127.3637185146947]}, {\"fill\": \"toself\", \"line\": {\"color\": \"#DC3912\"}, \"name\": \"tpe\", \"showlegend\": false, \"type\": \"scatter\", \"x\": [0, 1, 2, 3, 4, 5, 6, 7, 8, 9, 10, 11, 12, 13, 14, 15, 16, 17, 18, 19, 20, 21, 22, 23, 24, 24, 23, 22, 21, 20, 19, 18, 17, 16, 15, 14, 13, 12, 11, 10, 9, 8, 7, 6, 5, 4, 3, 2, 1, 0], \"y\": [-25351706488.121758, -5530689.05307808, -5530689.05307808, -12734287.667081306, -34813.618196954696, -34813.618196954696, -34813.618196954696, -34813.618196954696, -34813.618196954696, -34813.618196954696, -34813.618196954696, -34813.618196954696, -34813.618196954696, -34813.618196954696, -34813.618196954696, -34813.618196954696, -34813.618196954696, -34813.618196954696, -34813.618196954696, -34813.618196954696, -34813.618196954696, -34813.618196954696, -34813.618196954696, -34813.618196954696, -34813.618196954696, 37068.345633984085, 37068.345633984085, 37068.345633984085, 37068.345633984085, 37068.345633984085, 37068.345633984085, 37068.345633984085, 37068.345633984085, 37068.345633984085, 37068.345633984085, 37068.345633984085, 37068.345633984085, 37068.345633984085, 37068.345633984085, 37068.345633984085, 37068.345633984085, 37068.345633984085, 37068.345633984085, 37068.345633984085, 37068.345633984085, 37068.345633984085, 12741857.892613, 5805560.631627774, 5805560.631627774, 25352209901.93653]}],                        {\"hovermode\": \"x\", \"template\": {\"data\": {\"bar\": [{\"error_x\": {\"color\": \"#2a3f5f\"}, \"error_y\": {\"color\": \"#2a3f5f\"}, \"marker\": {\"line\": {\"color\": \"#E5ECF6\", \"width\": 0.5}}, \"type\": \"bar\"}], \"barpolar\": [{\"marker\": {\"line\": {\"color\": \"#E5ECF6\", \"width\": 0.5}}, \"type\": \"barpolar\"}], \"carpet\": [{\"aaxis\": {\"endlinecolor\": \"#2a3f5f\", \"gridcolor\": \"white\", \"linecolor\": \"white\", \"minorgridcolor\": \"white\", \"startlinecolor\": \"#2a3f5f\"}, \"baxis\": {\"endlinecolor\": \"#2a3f5f\", \"gridcolor\": \"white\", \"linecolor\": \"white\", \"minorgridcolor\": \"white\", \"startlinecolor\": \"#2a3f5f\"}, \"type\": \"carpet\"}], \"choropleth\": [{\"colorbar\": {\"outlinewidth\": 0, \"ticks\": \"\"}, \"type\": \"choropleth\"}], \"contour\": [{\"colorbar\": {\"outlinewidth\": 0, \"ticks\": \"\"}, \"colorscale\": [[0.0, \"#0d0887\"], [0.1111111111111111, \"#46039f\"], [0.2222222222222222, \"#7201a8\"], [0.3333333333333333, \"#9c179e\"], [0.4444444444444444, \"#bd3786\"], [0.5555555555555556, \"#d8576b\"], [0.6666666666666666, \"#ed7953\"], [0.7777777777777778, \"#fb9f3a\"], [0.8888888888888888, \"#fdca26\"], [1.0, \"#f0f921\"]], \"type\": \"contour\"}], \"contourcarpet\": [{\"colorbar\": {\"outlinewidth\": 0, \"ticks\": \"\"}, \"type\": \"contourcarpet\"}], \"heatmap\": [{\"colorbar\": {\"outlinewidth\": 0, \"ticks\": \"\"}, \"colorscale\": [[0.0, \"#0d0887\"], [0.1111111111111111, \"#46039f\"], [0.2222222222222222, \"#7201a8\"], [0.3333333333333333, \"#9c179e\"], [0.4444444444444444, \"#bd3786\"], [0.5555555555555556, \"#d8576b\"], [0.6666666666666666, \"#ed7953\"], [0.7777777777777778, \"#fb9f3a\"], [0.8888888888888888, \"#fdca26\"], [1.0, \"#f0f921\"]], \"type\": \"heatmap\"}], \"heatmapgl\": [{\"colorbar\": {\"outlinewidth\": 0, \"ticks\": \"\"}, \"colorscale\": [[0.0, \"#0d0887\"], [0.1111111111111111, \"#46039f\"], [0.2222222222222222, \"#7201a8\"], [0.3333333333333333, \"#9c179e\"], [0.4444444444444444, \"#bd3786\"], [0.5555555555555556, \"#d8576b\"], [0.6666666666666666, \"#ed7953\"], [0.7777777777777778, \"#fb9f3a\"], [0.8888888888888888, \"#fdca26\"], [1.0, \"#f0f921\"]], \"type\": \"heatmapgl\"}], \"histogram\": [{\"marker\": {\"colorbar\": {\"outlinewidth\": 0, \"ticks\": \"\"}}, \"type\": \"histogram\"}], \"histogram2d\": [{\"colorbar\": {\"outlinewidth\": 0, \"ticks\": \"\"}, \"colorscale\": [[0.0, \"#0d0887\"], [0.1111111111111111, \"#46039f\"], [0.2222222222222222, \"#7201a8\"], [0.3333333333333333, \"#9c179e\"], [0.4444444444444444, \"#bd3786\"], [0.5555555555555556, \"#d8576b\"], [0.6666666666666666, \"#ed7953\"], [0.7777777777777778, \"#fb9f3a\"], [0.8888888888888888, \"#fdca26\"], [1.0, \"#f0f921\"]], \"type\": \"histogram2d\"}], \"histogram2dcontour\": [{\"colorbar\": {\"outlinewidth\": 0, \"ticks\": \"\"}, \"colorscale\": [[0.0, \"#0d0887\"], [0.1111111111111111, \"#46039f\"], [0.2222222222222222, \"#7201a8\"], [0.3333333333333333, \"#9c179e\"], [0.4444444444444444, \"#bd3786\"], [0.5555555555555556, \"#d8576b\"], [0.6666666666666666, \"#ed7953\"], [0.7777777777777778, \"#fb9f3a\"], [0.8888888888888888, \"#fdca26\"], [1.0, \"#f0f921\"]], \"type\": \"histogram2dcontour\"}], \"mesh3d\": [{\"colorbar\": {\"outlinewidth\": 0, \"ticks\": \"\"}, \"type\": \"mesh3d\"}], \"parcoords\": [{\"line\": {\"colorbar\": {\"outlinewidth\": 0, \"ticks\": \"\"}}, \"type\": \"parcoords\"}], \"pie\": [{\"automargin\": true, \"type\": \"pie\"}], \"scatter\": [{\"marker\": {\"colorbar\": {\"outlinewidth\": 0, \"ticks\": \"\"}}, \"type\": \"scatter\"}], \"scatter3d\": [{\"line\": {\"colorbar\": {\"outlinewidth\": 0, \"ticks\": \"\"}}, \"marker\": {\"colorbar\": {\"outlinewidth\": 0, \"ticks\": \"\"}}, \"type\": \"scatter3d\"}], \"scattercarpet\": [{\"marker\": {\"colorbar\": {\"outlinewidth\": 0, \"ticks\": \"\"}}, \"type\": \"scattercarpet\"}], \"scattergeo\": [{\"marker\": {\"colorbar\": {\"outlinewidth\": 0, \"ticks\": \"\"}}, \"type\": \"scattergeo\"}], \"scattergl\": [{\"marker\": {\"colorbar\": {\"outlinewidth\": 0, \"ticks\": \"\"}}, \"type\": \"scattergl\"}], \"scattermapbox\": [{\"marker\": {\"colorbar\": {\"outlinewidth\": 0, \"ticks\": \"\"}}, \"type\": \"scattermapbox\"}], \"scatterpolar\": [{\"marker\": {\"colorbar\": {\"outlinewidth\": 0, \"ticks\": \"\"}}, \"type\": \"scatterpolar\"}], \"scatterpolargl\": [{\"marker\": {\"colorbar\": {\"outlinewidth\": 0, \"ticks\": \"\"}}, \"type\": \"scatterpolargl\"}], \"scatterternary\": [{\"marker\": {\"colorbar\": {\"outlinewidth\": 0, \"ticks\": \"\"}}, \"type\": \"scatterternary\"}], \"surface\": [{\"colorbar\": {\"outlinewidth\": 0, \"ticks\": \"\"}, \"colorscale\": [[0.0, \"#0d0887\"], [0.1111111111111111, \"#46039f\"], [0.2222222222222222, \"#7201a8\"], [0.3333333333333333, \"#9c179e\"], [0.4444444444444444, \"#bd3786\"], [0.5555555555555556, \"#d8576b\"], [0.6666666666666666, \"#ed7953\"], [0.7777777777777778, \"#fb9f3a\"], [0.8888888888888888, \"#fdca26\"], [1.0, \"#f0f921\"]], \"type\": \"surface\"}], \"table\": [{\"cells\": {\"fill\": {\"color\": \"#EBF0F8\"}, \"line\": {\"color\": \"white\"}}, \"header\": {\"fill\": {\"color\": \"#C8D4E3\"}, \"line\": {\"color\": \"white\"}}, \"type\": \"table\"}]}, \"layout\": {\"annotationdefaults\": {\"arrowcolor\": \"#2a3f5f\", \"arrowhead\": 0, \"arrowwidth\": 1}, \"autotypenumbers\": \"strict\", \"coloraxis\": {\"colorbar\": {\"outlinewidth\": 0, \"ticks\": \"\"}}, \"colorscale\": {\"diverging\": [[0, \"#8e0152\"], [0.1, \"#c51b7d\"], [0.2, \"#de77ae\"], [0.3, \"#f1b6da\"], [0.4, \"#fde0ef\"], [0.5, \"#f7f7f7\"], [0.6, \"#e6f5d0\"], [0.7, \"#b8e186\"], [0.8, \"#7fbc41\"], [0.9, \"#4d9221\"], [1, \"#276419\"]], \"sequential\": [[0.0, \"#0d0887\"], [0.1111111111111111, \"#46039f\"], [0.2222222222222222, \"#7201a8\"], [0.3333333333333333, \"#9c179e\"], [0.4444444444444444, \"#bd3786\"], [0.5555555555555556, \"#d8576b\"], [0.6666666666666666, \"#ed7953\"], [0.7777777777777778, \"#fb9f3a\"], [0.8888888888888888, \"#fdca26\"], [1.0, \"#f0f921\"]], \"sequentialminus\": [[0.0, \"#0d0887\"], [0.1111111111111111, \"#46039f\"], [0.2222222222222222, \"#7201a8\"], [0.3333333333333333, \"#9c179e\"], [0.4444444444444444, \"#bd3786\"], [0.5555555555555556, \"#d8576b\"], [0.6666666666666666, \"#ed7953\"], [0.7777777777777778, \"#fb9f3a\"], [0.8888888888888888, \"#fdca26\"], [1.0, \"#f0f921\"]]}, \"colorway\": [\"#636efa\", \"#EF553B\", \"#00cc96\", \"#ab63fa\", \"#FFA15A\", \"#19d3f3\", \"#FF6692\", \"#B6E880\", \"#FF97FF\", \"#FECB52\"], \"font\": {\"color\": \"#2a3f5f\"}, \"geo\": {\"bgcolor\": \"white\", \"lakecolor\": \"white\", \"landcolor\": \"#E5ECF6\", \"showlakes\": true, \"showland\": true, \"subunitcolor\": \"white\"}, \"hoverlabel\": {\"align\": \"left\"}, \"hovermode\": \"closest\", \"mapbox\": {\"style\": \"light\"}, \"paper_bgcolor\": \"white\", \"plot_bgcolor\": \"#E5ECF6\", \"polar\": {\"angularaxis\": {\"gridcolor\": \"white\", \"linecolor\": \"white\", \"ticks\": \"\"}, \"bgcolor\": \"#E5ECF6\", \"radialaxis\": {\"gridcolor\": \"white\", \"linecolor\": \"white\", \"ticks\": \"\"}}, \"scene\": {\"xaxis\": {\"backgroundcolor\": \"#E5ECF6\", \"gridcolor\": \"white\", \"gridwidth\": 2, \"linecolor\": \"white\", \"showbackground\": true, \"ticks\": \"\", \"zerolinecolor\": \"white\"}, \"yaxis\": {\"backgroundcolor\": \"#E5ECF6\", \"gridcolor\": \"white\", \"gridwidth\": 2, \"linecolor\": \"white\", \"showbackground\": true, \"ticks\": \"\", \"zerolinecolor\": \"white\"}, \"zaxis\": {\"backgroundcolor\": \"#E5ECF6\", \"gridcolor\": \"white\", \"gridwidth\": 2, \"linecolor\": \"white\", \"showbackground\": true, \"ticks\": \"\", \"zerolinecolor\": \"white\"}}, \"shapedefaults\": {\"line\": {\"color\": \"#2a3f5f\"}}, \"ternary\": {\"aaxis\": {\"gridcolor\": \"white\", \"linecolor\": \"white\", \"ticks\": \"\"}, \"baxis\": {\"gridcolor\": \"white\", \"linecolor\": \"white\", \"ticks\": \"\"}, \"bgcolor\": \"#E5ECF6\", \"caxis\": {\"gridcolor\": \"white\", \"linecolor\": \"white\", \"ticks\": \"\"}}, \"title\": {\"x\": 0.05}, \"xaxis\": {\"automargin\": true, \"gridcolor\": \"white\", \"linecolor\": \"white\", \"ticks\": \"\", \"title\": {\"standoff\": 15}, \"zerolinecolor\": \"white\", \"zerolinewidth\": 2}, \"yaxis\": {\"automargin\": true, \"gridcolor\": \"white\", \"linecolor\": \"white\", \"ticks\": \"\", \"title\": {\"standoff\": 15}, \"zerolinecolor\": \"white\", \"zerolinewidth\": 2}}}, \"title\": {\"text\": \"Average Regret\"}, \"xaxis\": {\"title\": {\"text\": \"Trials ordered by suggested time\"}}, \"yaxis\": {\"title\": {\"text\": \"rosenbrock\"}}},                        {\"responsive\": true}                    ).then(function(){\n",
       "                            \n",
       "var gd = document.getElementById('28217af6-0214-4298-9179-ca18bfa41765');\n",
       "var x = new MutationObserver(function (mutations, observer) {{\n",
       "        var display = window.getComputedStyle(gd).display;\n",
       "        if (!display || display === 'none') {{\n",
       "            console.log([gd, 'removed!']);\n",
       "            Plotly.purge(gd);\n",
       "            observer.disconnect();\n",
       "        }}\n",
       "}});\n",
       "\n",
       "// Listen for the removal of the full notebook cells\n",
       "var notebookContainer = gd.closest('#notebook-container');\n",
       "if (notebookContainer) {{\n",
       "    x.observe(notebookContainer, {childList: true});\n",
       "}}\n",
       "\n",
       "// Listen for the clearing of the current output cell\n",
       "var outputEl = gd.closest('.output');\n",
       "if (outputEl) {{\n",
       "    x.observe(outputEl, {childList: true});\n",
       "}}\n",
       "\n",
       "                        })                };                });            </script>        </div>"
      ]
     },
     "metadata": {}
    }
   ],
   "metadata": {}
  },
  {
   "cell_type": "code",
   "execution_count": null,
   "source": [],
   "outputs": [],
   "metadata": {
    "collapsed": true
   }
  }
 ],
 "metadata": {
  "kernelspec": {
   "name": "python3",
   "display_name": "Python 3.8.8 64-bit ('warm-start': conda)"
  },
  "language_info": {
   "codemirror_mode": {
    "name": "ipython",
    "version": 3
   },
   "file_extension": ".py",
   "mimetype": "text/x-python",
   "name": "python",
   "nbconvert_exporter": "python",
   "pygments_lexer": "ipython3",
   "version": "3.8.8"
  },
  "metadata": {
   "interpreter": {
    "hash": "2c8858e014650328496d8290b6c5ec443cc2d082b4089dd43822f8f34fcc52d1"
   }
  },
  "interpreter": {
   "hash": "2c8858e014650328496d8290b6c5ec443cc2d082b4089dd43822f8f34fcc52d1"
  }
 },
 "nbformat": 4,
 "nbformat_minor": 2
}